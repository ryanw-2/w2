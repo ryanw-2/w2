{
 "cells": [
  {
   "cell_type": "code",
   "execution_count": 1,
   "id": "84612634",
   "metadata": {},
   "outputs": [
    {
     "name": "stderr",
     "output_type": "stream",
     "text": [
      "d:\\W2 Workspace\\.venv\\Lib\\site-packages\\tqdm\\auto.py:21: TqdmWarning: IProgress not found. Please update jupyter and ipywidgets. See https://ipywidgets.readthedocs.io/en/stable/user_install.html\n",
      "  from .autonotebook import tqdm as notebook_tqdm\n"
     ]
    }
   ],
   "source": [
    "import cv2 as cv\n",
    "from skimage.morphology import skeletonize\n",
    "from PIL import Image\n",
    "import numpy as np\n",
    "from diffusers.pipelines.controlnet.pipeline_controlnet import StableDiffusionControlNetPipeline\n",
    "from diffusers.models.controlnets.controlnet import ControlNetModel\n",
    "import torch\n",
    "from diffusers.schedulers.scheduling_unipc_multistep import UniPCMultistepScheduler"
   ]
  },
  {
   "cell_type": "code",
   "execution_count": 2,
   "id": "9fb5bf0b",
   "metadata": {},
   "outputs": [],
   "source": [
    "def load_stable_diffusion_model():\n",
    "    controlnet = ControlNetModel.from_pretrained(\"lllyasviel/sd-controlnet-canny\", torch_dtype=torch.float16)\n",
    "    pipe = StableDiffusionControlNetPipeline.from_pretrained(\n",
    "        \"runwayml/stable-diffusion-v1-5\", controlnet=controlnet, torch_dtype=torch.float16\n",
    "    )\n",
    "    \n",
    "    return pipe\n",
    "\n",
    "def load_img(file_path, flipped=True):\n",
    "    input_img = cv.imread(file_path)\n",
    "    if input_img is None:\n",
    "        print(\"Error: No input found at path.\")\n",
    "        return\n",
    "    \n",
    "    if flipped:\n",
    "        input_img = cv.flip(input_img, 0)\n",
    "    \n",
    "    return input_img\n",
    "\n",
    "def get_canny(input_img):\n",
    "    if input_img is None:\n",
    "        print(\"Error: No input found at path.\")\n",
    "        return\n",
    "    low_threshold = 100\n",
    "    high_threshold = 200\n",
    "\n",
    "    img = cv.Canny(input_img, low_threshold, high_threshold)\n",
    "\n",
    "    img = img[:,:, None]\n",
    "    img = np.concatenate([img, img, img], axis = 2)\n",
    "    canny_image = Image.fromarray(img)\n",
    "\n",
    "    return canny_image\n",
    "\n",
    "\n",
    "def get_skeleton(input_img):\n",
    "    if input_img is None:\n",
    "        print(\"Error: No input found\")\n",
    "        return\n",
    "    \n",
    "    gray = cv.cvtColor(input_img, cv.COLOR_BGR2GRAY)\n",
    "    smoothed = cv.bilateralFilter(gray, d=9, sigmaColor=75, sigmaSpace=75)\n",
    "    blurred = cv.GaussianBlur(smoothed, (5, 5), 0)\n",
    "    binary_img = cv.adaptiveThreshold(\n",
    "        blurred, 255, cv.ADAPTIVE_THRESH_GAUSSIAN_C, cv.THRESH_BINARY_INV, 21, 10\n",
    "    )\n",
    "    \n",
    "    binary_img[binary_img == 255] = 1\n",
    "    skeleton_img = skeletonize(binary_img)\n",
    "    skeleton_img = skeleton_img.astype(np.uint8) * 255\n",
    "\n",
    "    skeleton_img = Image.fromarray(skeleton_img)\n",
    "    \n",
    "    return skeleton_img\n",
    "    \n",
    "def generate(img, pipe, prompt, visualize_steps=False):\n",
    "    pipe.scheduler = UniPCMultistepScheduler.from_config(pipe.scheduler.config)\n",
    "    pipe.enable_model_cpu_offload()\n",
    "\n",
    "    generator = torch.manual_seed(0)\n",
    "\n",
    "    out_image = pipe(\n",
    "        prompt, num_inference_steps=20, generator=generator, image=img\n",
    "    ).images[0]\n",
    "\n",
    "    out_image.save(\"output.png\")\n"
   ]
  },
  {
   "cell_type": "code",
   "execution_count": 11,
   "id": "bf9c85d4",
   "metadata": {},
   "outputs": [],
   "source": [
    "INPUT_FILEPATH = \"../data/sSketch2.jpg\"\n",
    "OUTPUT_FILEPATH = \"paths.csv\"\n",
    "PROMPT = \"This is a floor plan of modern cabin resort in the middle of the forest\""
   ]
  },
  {
   "cell_type": "code",
   "execution_count": 4,
   "id": "bfb72974",
   "metadata": {},
   "outputs": [
    {
     "name": "stderr",
     "output_type": "stream",
     "text": [
      "Loading pipeline components...: 100%|██████████| 7/7 [00:03<00:00,  1.95it/s]\n"
     ]
    }
   ],
   "source": [
    "pipe = load_stable_diffusion_model()"
   ]
  },
  {
   "cell_type": "code",
   "execution_count": 12,
   "id": "03e90ce7",
   "metadata": {},
   "outputs": [],
   "source": [
    "input_img = load_img(INPUT_FILEPATH, False)\n",
    "canny = get_canny(input_img)\n",
    "skeleton = get_skeleton(input_img)"
   ]
  },
  {
   "cell_type": "code",
   "execution_count": 15,
   "id": "b27958bd",
   "metadata": {},
   "outputs": [
    {
     "name": "stderr",
     "output_type": "stream",
     "text": [
      "100%|██████████| 20/20 [00:06<00:00,  3.05it/s]\n"
     ]
    }
   ],
   "source": [
    "generate(canny, pipe, PROMPT)"
   ]
  },
  {
   "cell_type": "code",
   "execution_count": 14,
   "id": "18525561",
   "metadata": {},
   "outputs": [
    {
     "name": "stderr",
     "output_type": "stream",
     "text": [
      "100%|██████████| 20/20 [00:06<00:00,  2.99it/s]\n"
     ]
    }
   ],
   "source": [
    "generate(skeleton, pipe, PROMPT)"
   ]
  }
 ],
 "metadata": {
  "kernelspec": {
   "display_name": ".venv",
   "language": "python",
   "name": "python3"
  },
  "language_info": {
   "codemirror_mode": {
    "name": "ipython",
    "version": 3
   },
   "file_extension": ".py",
   "mimetype": "text/x-python",
   "name": "python",
   "nbconvert_exporter": "python",
   "pygments_lexer": "ipython3",
   "version": "3.13.3"
  }
 },
 "nbformat": 4,
 "nbformat_minor": 5
}
